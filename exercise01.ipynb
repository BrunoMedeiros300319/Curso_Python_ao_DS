{
 "metadata": {
  "language_info": {
   "codemirror_mode": {
    "name": "ipython",
    "version": 3
   },
   "file_extension": ".py",
   "mimetype": "text/x-python",
   "name": "python",
   "nbconvert_exporter": "python",
   "pygments_lexer": "ipython3",
   "version": "3.8.5-final"
  },
  "orig_nbformat": 2,
  "kernelspec": {
   "name": "python38564bit4f5acb9cc59445f4913b2ccb9189ac95",
   "display_name": "Python 3.8.5 64-bit",
   "language": "python"
  }
 },
 "nbformat": 4,
 "nbformat_minor": 2,
 "cells": [
  {
   "source": [
    "# Aula 01 (2021-06-01)\n",
    "- Importação da biblioteca pandas e criação do DataFrame"
   ],
   "cell_type": "markdown",
   "metadata": {}
  },
  {
   "cell_type": "code",
   "execution_count": 6,
   "metadata": {},
   "outputs": [],
   "source": [
    "import pandas as pd\n",
    "df = pd.read_csv('datasets/kc_house_data.csv')"
   ]
  },
  {
   "source": [
    "## Há duplicatas de ids?\n",
    "- Os IDs são valores únicos para cada casa, não sendo possível que existam mais de uma casa com mesmo ID. \n",
    "- Para fazer essa verificação, a biblioteca pandas possui um método que facilita esse processo"
   ],
   "cell_type": "markdown",
   "metadata": {}
  },
  {
   "cell_type": "code",
   "execution_count": 12,
   "metadata": {},
   "outputs": [
    {
     "output_type": "execute_result",
     "data": {
      "text/plain": [
       "False    21436\n",
       "True       177\n",
       "Name: id, dtype: int64"
      ]
     },
     "metadata": {},
     "execution_count": 12
    }
   ],
   "source": [
    "df['id'].duplicated().value_counts()"
   ]
  },
  {
   "source": [
    "- Com isso, verificamos que existem 177 duplicatas e 21436 IDs únicos;\n",
    "- É possível que as duplicatas existam porque o preço de alguns imóveis foram atualizados e os valores antigos não foram deletados."
   ],
   "cell_type": "markdown",
   "metadata": {}
  },
  {
   "cell_type": "code",
   "execution_count": 15,
   "metadata": {},
   "outputs": [],
   "source": [
    "df.drop_duplicates(subset='id', keep='last', inplace=True)"
   ]
  },
  {
   "cell_type": "code",
   "execution_count": null,
   "metadata": {},
   "outputs": [],
   "source": []
  }
 ]
}